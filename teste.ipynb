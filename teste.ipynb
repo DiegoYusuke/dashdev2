{
 "cells": [
  {
   "cell_type": "code",
   "execution_count": 1,
   "metadata": {},
   "outputs": [],
   "source": [
    "import pandas as pd"
   ]
  },
  {
   "cell_type": "code",
   "execution_count": 16,
   "metadata": {},
   "outputs": [],
   "source": [
    "df_atendimento = pd.read_parquet(\"D:\\Dev2\\migracao_sheets\\data\\dados-mapeamentos.parquet\")"
   ]
  },
  {
   "cell_type": "code",
   "execution_count": 17,
   "metadata": {},
   "outputs": [
    {
     "data": {
      "text/html": [
       "<div>\n",
       "<style scoped>\n",
       "    .dataframe tbody tr th:only-of-type {\n",
       "        vertical-align: middle;\n",
       "    }\n",
       "\n",
       "    .dataframe tbody tr th {\n",
       "        vertical-align: top;\n",
       "    }\n",
       "\n",
       "    .dataframe thead th {\n",
       "        text-align: right;\n",
       "    }\n",
       "</style>\n",
       "<table border=\"1\" class=\"dataframe\">\n",
       "  <thead>\n",
       "    <tr style=\"text-align: right;\">\n",
       "      <th></th>\n",
       "      <th>ID</th>\n",
       "      <th>Data</th>\n",
       "      <th>Cliente</th>\n",
       "      <th>n° POIs</th>\n",
       "      <th>Tipo de Mapeamento</th>\n",
       "      <th>Status</th>\n",
       "      <th>Responsável</th>\n",
       "      <th>Data de Conclusão</th>\n",
       "      <th>Observações</th>\n",
       "    </tr>\n",
       "  </thead>\n",
       "  <tbody>\n",
       "    <tr>\n",
       "      <th>0</th>\n",
       "      <td>ATIV-20250317133237168</td>\n",
       "      <td>17/03/2025</td>\n",
       "      <td>VSH</td>\n",
       "      <td>50</td>\n",
       "      <td>Pontos Mapeados</td>\n",
       "      <td>Concluído</td>\n",
       "      <td>Karine</td>\n",
       "      <td>17/03/2025</td>\n",
       "      <td></td>\n",
       "    </tr>\n",
       "    <tr>\n",
       "      <th>1</th>\n",
       "      <td>ATIV-20250317145912758</td>\n",
       "      <td>17/03/2025</td>\n",
       "      <td>CROP Oftalmologia</td>\n",
       "      <td>50</td>\n",
       "      <td>Pontos Mapeados</td>\n",
       "      <td>Concluído</td>\n",
       "      <td>Karine</td>\n",
       "      <td>17/03/2025</td>\n",
       "      <td></td>\n",
       "    </tr>\n",
       "    <tr>\n",
       "      <th>2</th>\n",
       "      <td>ATIV-20250318231917014</td>\n",
       "      <td>18/03/2025</td>\n",
       "      <td>Puc</td>\n",
       "      <td>210</td>\n",
       "      <td>Pontos Mapeados</td>\n",
       "      <td>Concluído</td>\n",
       "      <td>Karine</td>\n",
       "      <td>18/03/2025</td>\n",
       "      <td></td>\n",
       "    </tr>\n",
       "    <tr>\n",
       "      <th>3</th>\n",
       "      <td>ATIV-20250319220917951</td>\n",
       "      <td>19/03/2025</td>\n",
       "      <td>Puc</td>\n",
       "      <td>240</td>\n",
       "      <td>Pontos Mapeados</td>\n",
       "      <td>Concluído</td>\n",
       "      <td>Karine</td>\n",
       "      <td>19/03/2025</td>\n",
       "      <td></td>\n",
       "    </tr>\n",
       "    <tr>\n",
       "      <th>4</th>\n",
       "      <td>ATIV-20250320122409113</td>\n",
       "      <td>20/03/2025</td>\n",
       "      <td>Adv Marcio Mathias</td>\n",
       "      <td>32</td>\n",
       "      <td>Pontos Mapeados</td>\n",
       "      <td>Concluído</td>\n",
       "      <td>Diego</td>\n",
       "      <td>20/03/2025</td>\n",
       "      <td></td>\n",
       "    </tr>\n",
       "  </tbody>\n",
       "</table>\n",
       "</div>"
      ],
      "text/plain": [
       "                       ID        Data             Cliente n° POIs  \\\n",
       "0  ATIV-20250317133237168  17/03/2025                 VSH      50   \n",
       "1  ATIV-20250317145912758  17/03/2025   CROP Oftalmologia      50   \n",
       "2  ATIV-20250318231917014  18/03/2025                 Puc     210   \n",
       "3  ATIV-20250319220917951  19/03/2025                 Puc     240   \n",
       "4  ATIV-20250320122409113  20/03/2025  Adv Marcio Mathias      32   \n",
       "\n",
       "  Tipo de Mapeamento     Status Responsável Data de Conclusão Observações  \n",
       "0    Pontos Mapeados  Concluído      Karine        17/03/2025              \n",
       "1    Pontos Mapeados  Concluído      Karine        17/03/2025              \n",
       "2    Pontos Mapeados  Concluído      Karine        18/03/2025              \n",
       "3    Pontos Mapeados  Concluído      Karine        19/03/2025              \n",
       "4    Pontos Mapeados  Concluído       Diego        20/03/2025              "
      ]
     },
     "execution_count": 17,
     "metadata": {},
     "output_type": "execute_result"
    }
   ],
   "source": [
    "df_atendimento.head()"
   ]
  },
  {
   "cell_type": "code",
   "execution_count": 18,
   "metadata": {},
   "outputs": [
    {
     "data": {
      "text/html": [
       "<div>\n",
       "<style scoped>\n",
       "    .dataframe tbody tr th:only-of-type {\n",
       "        vertical-align: middle;\n",
       "    }\n",
       "\n",
       "    .dataframe tbody tr th {\n",
       "        vertical-align: top;\n",
       "    }\n",
       "\n",
       "    .dataframe thead th {\n",
       "        text-align: right;\n",
       "    }\n",
       "</style>\n",
       "<table border=\"1\" class=\"dataframe\">\n",
       "  <thead>\n",
       "    <tr style=\"text-align: right;\">\n",
       "      <th></th>\n",
       "      <th>ID</th>\n",
       "      <th>Data</th>\n",
       "      <th>Cliente</th>\n",
       "      <th>n° POIs</th>\n",
       "      <th>Tipo de Mapeamento</th>\n",
       "      <th>Status</th>\n",
       "      <th>Responsável</th>\n",
       "      <th>Data de Conclusão</th>\n",
       "      <th>Observações</th>\n",
       "    </tr>\n",
       "  </thead>\n",
       "  <tbody>\n",
       "    <tr>\n",
       "      <th>count</th>\n",
       "      <td>8</td>\n",
       "      <td>8</td>\n",
       "      <td>8</td>\n",
       "      <td>8</td>\n",
       "      <td>8</td>\n",
       "      <td>8</td>\n",
       "      <td>8</td>\n",
       "      <td>8</td>\n",
       "      <td>8</td>\n",
       "    </tr>\n",
       "    <tr>\n",
       "      <th>unique</th>\n",
       "      <td>8</td>\n",
       "      <td>6</td>\n",
       "      <td>5</td>\n",
       "      <td>6</td>\n",
       "      <td>2</td>\n",
       "      <td>1</td>\n",
       "      <td>2</td>\n",
       "      <td>6</td>\n",
       "      <td>1</td>\n",
       "    </tr>\n",
       "    <tr>\n",
       "      <th>top</th>\n",
       "      <td>ATIV-20250317133237168</td>\n",
       "      <td>17/03/2025</td>\n",
       "      <td>Puc</td>\n",
       "      <td>50</td>\n",
       "      <td>Pontos Mapeados</td>\n",
       "      <td>Concluído</td>\n",
       "      <td>Karine</td>\n",
       "      <td>17/03/2025</td>\n",
       "      <td></td>\n",
       "    </tr>\n",
       "    <tr>\n",
       "      <th>freq</th>\n",
       "      <td>1</td>\n",
       "      <td>2</td>\n",
       "      <td>4</td>\n",
       "      <td>3</td>\n",
       "      <td>7</td>\n",
       "      <td>8</td>\n",
       "      <td>7</td>\n",
       "      <td>2</td>\n",
       "      <td>8</td>\n",
       "    </tr>\n",
       "  </tbody>\n",
       "</table>\n",
       "</div>"
      ],
      "text/plain": [
       "                            ID        Data Cliente n° POIs Tipo de Mapeamento  \\\n",
       "count                        8           8       8       8                  8   \n",
       "unique                       8           6       5       6                  2   \n",
       "top     ATIV-20250317133237168  17/03/2025     Puc      50    Pontos Mapeados   \n",
       "freq                         1           2       4       3                  7   \n",
       "\n",
       "           Status Responsável Data de Conclusão Observações  \n",
       "count           8           8                 8           8  \n",
       "unique          1           2                 6           1  \n",
       "top     Concluído      Karine        17/03/2025              \n",
       "freq            8           7                 2           8  "
      ]
     },
     "execution_count": 18,
     "metadata": {},
     "output_type": "execute_result"
    }
   ],
   "source": [
    "df_atendimento.describe()"
   ]
  },
  {
   "cell_type": "code",
   "execution_count": 5,
   "metadata": {},
   "outputs": [
    {
     "data": {
      "text/plain": [
       "Status\n",
       "Concluído    133\n",
       "Name: count, dtype: int64"
      ]
     },
     "execution_count": 5,
     "metadata": {},
     "output_type": "execute_result"
    }
   ],
   "source": [
    "df_atendimento['Status'].value_counts()"
   ]
  }
 ],
 "metadata": {
  "kernelspec": {
   "display_name": "Python 3",
   "language": "python",
   "name": "python3"
  },
  "language_info": {
   "codemirror_mode": {
    "name": "ipython",
    "version": 3
   },
   "file_extension": ".py",
   "mimetype": "text/x-python",
   "name": "python",
   "nbconvert_exporter": "python",
   "pygments_lexer": "ipython3",
   "version": "3.11.9"
  }
 },
 "nbformat": 4,
 "nbformat_minor": 2
}
